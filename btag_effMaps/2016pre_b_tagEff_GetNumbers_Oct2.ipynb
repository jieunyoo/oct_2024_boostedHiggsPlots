{
 "cells": [
  {
   "cell_type": "code",
   "execution_count": 1,
   "id": "c73fcdab-4fba-48fe-90e2-7bf02b7a6f64",
   "metadata": {},
   "outputs": [
    {
     "name": "stderr",
     "output_type": "stream",
     "text": [
      "/home/jieun201/.local/lib/python3.10/site-packages/coffea/nanoevents/mapping/uproot.py:86: UserWarning: Found duplicate branch FatJetAK15SubJet_nBHadrons in <TTree 'Events' (1813 branches) at 0x7f25388fe170>, taking first instance\n",
      "  warnings.warn(\n",
      "/home/jieun201/.local/lib/python3.10/site-packages/coffea/nanoevents/mapping/uproot.py:86: UserWarning: Found duplicate branch FatJetAK15SubJet_nCHadrons in <TTree 'Events' (1813 branches) at 0x7f25388fe170>, taking first instance\n",
      "  warnings.warn(\n",
      "/home/jieun201/.local/lib/python3.10/site-packages/coffea/nanoevents/mapping/uproot.py:86: UserWarning: Found duplicate branch FatJetAK15_nBHadrons in <TTree 'Events' (1813 branches) at 0x7f25388fe170>, taking first instance\n",
      "  warnings.warn(\n",
      "/home/jieun201/.local/lib/python3.10/site-packages/coffea/nanoevents/mapping/uproot.py:86: UserWarning: Found duplicate branch FatJetAK15_nCHadrons in <TTree 'Events' (1813 branches) at 0x7f25388fe170>, taking first instance\n",
      "  warnings.warn(\n",
      "/home/jieun201/.local/lib/python3.10/site-packages/coffea/nanoevents/mapping/uproot.py:86: UserWarning: Found duplicate branch FatJet_btagDDBvLV2 in <TTree 'Events' (1813 branches) at 0x7f25388fe170>, taking first instance\n",
      "  warnings.warn(\n",
      "/home/jieun201/.local/lib/python3.10/site-packages/coffea/nanoevents/mapping/uproot.py:86: UserWarning: Found duplicate branch FatJet_btagDDCvBV2 in <TTree 'Events' (1813 branches) at 0x7f25388fe170>, taking first instance\n",
      "  warnings.warn(\n",
      "/home/jieun201/.local/lib/python3.10/site-packages/coffea/nanoevents/mapping/uproot.py:86: UserWarning: Found duplicate branch FatJet_btagDDCvLV2 in <TTree 'Events' (1813 branches) at 0x7f25388fe170>, taking first instance\n",
      "  warnings.warn(\n",
      "/home/jieun201/.local/lib/python3.10/site-packages/coffea/nanoevents/mapping/uproot.py:86: UserWarning: Found duplicate branch FatJet_nBHadrons in <TTree 'Events' (1813 branches) at 0x7f25388fe170>, taking first instance\n",
      "  warnings.warn(\n",
      "/home/jieun201/.local/lib/python3.10/site-packages/coffea/nanoevents/mapping/uproot.py:86: UserWarning: Found duplicate branch FatJet_nCHadrons in <TTree 'Events' (1813 branches) at 0x7f25388fe170>, taking first instance\n",
      "  warnings.warn(\n",
      "/home/jieun201/.local/lib/python3.10/site-packages/coffea/nanoevents/mapping/uproot.py:86: UserWarning: Found duplicate branch SubJet_nBHadrons in <TTree 'Events' (1813 branches) at 0x7f25388fe170>, taking first instance\n",
      "  warnings.warn(\n",
      "/home/jieun201/.local/lib/python3.10/site-packages/coffea/nanoevents/mapping/uproot.py:86: UserWarning: Found duplicate branch SubJet_nCHadrons in <TTree 'Events' (1813 branches) at 0x7f25388fe170>, taking first instance\n",
      "  warnings.warn(\n"
     ]
    }
   ],
   "source": [
    "import awkward as ak\n",
    "import hist\n",
    "import numpy as np\n",
    "from coffea import util as cutil\n",
    "from coffea.lookup_tools.dense_lookup import dense_lookup\n",
    "from coffea.nanoevents import NanoAODSchema, NanoEventsFactory\n",
    "\n",
    "btagWPs = {\n",
    "    \"deepJet\": {\n",
    "        \"2016preVFP_UL\": {\n",
    "            \"L\": 0.0508,\n",
    "            \"M\": 0.2598,\n",
    "            \"T\": 0.6502,\n",
    "        },\n",
    "        \"2016postVFP_UL\": {\n",
    "            \"L\": 0.0480,\n",
    "            \"M\": 0.2489,\n",
    "            \"T\": 0.6377,\n",
    "        },\n",
    "        \"2017_UL\": {\n",
    "            \"L\": 0.0532,\n",
    "            \"M\": 0.3040,\n",
    "            \"T\": 0.7476,\n",
    "        },\n",
    "        \"2018_UL\": {\n",
    "            \"L\": 0.0490,\n",
    "            \"M\": 0.2783,\n",
    "            \"T\": 0.7100,\n",
    "        },\n",
    "    },\n",
    "    \"deepCSV\": {\n",
    "        \"2016preVFP_UL\": {\n",
    "            \"L\": 0.2027,\n",
    "            \"M\": 0.6001,\n",
    "            \"T\": 0.8819,\n",
    "        },\n",
    "        \"2016postVFP_UL\": {\n",
    "            \"L\": 0.1918,\n",
    "            \"M\": 0.5847,\n",
    "            \"T\": 0.8767,\n",
    "        },\n",
    "        \"2017_UL\": {\n",
    "            \"L\": 0.1355,\n",
    "            \"M\": 0.4506,\n",
    "            \"T\": 0.7738,\n",
    "        },\n",
    "        \"2018_UL\": {\n",
    "            \"L\": 0.1208,\n",
    "            \"M\": 0.4168,\n",
    "            \"T\": 0.7665,\n",
    "        },\n",
    "    },\n",
    "}\n",
    "\n",
    "# single TT files to derive efficiency\n",
    "\n",
    "taggerBranch = {\"deepJet\": \"btagDeepFlavB\", \"deepCSV\": \"btagDeepB\"}\n",
    "\n",
    "\n",
    "file1 = \"/uscms_data/d3/jieun201/YOURWORKINGAREA/nano_mc2016pre_3-146.root\"\n",
    "\n",
    "events = NanoEventsFactory.from_root(\n",
    "    file1,\n",
    "entry_stop=100_000, schemaclass=NanoAODSchema,\n",
    ").events()\n",
    "year = '2016preVFP_UL'\n",
    "\n",
    "#events = file1.events()\n",
    "\n",
    "# b-tagging only applied for jets with |eta| < 2.5\n",
    "phasespace_cuts = (events.Jet.pt > 30) & (abs(events.Jet.eta) < 2.5)\n",
    "jets = ak.flatten(events.Jet[phasespace_cuts])\n",
    "\n",
    "bins = [40,60,80,100,120,140,160,180,200,220,240,260,280,300,1000]\n",
    "\n",
    "\n",
    "#for tag in [\"deepJet\", \"deepCSV\"]:\n",
    "for tag in [\"deepJet\"]:\n",
    "    #for wp in [\"L\", \"M\", \"T\"]:\n",
    "    for wp in [\"M\"]:\n",
    "        efficiencyinfo = (\n",
    "            hist.Hist.new.Variable(bins, name=\"pt\")\n",
    "            .Reg(4, 0, 2.5, name=\"abseta\")\n",
    "            .IntCat([0, 4, 5], name=\"flavor\")\n",
    "            .Bool(name=\"passWP\")\n",
    "            .Double()\n",
    "            .fill(\n",
    "                pt=jets.pt,\n",
    "                abseta=abs(jets.eta),\n",
    "                flavor=jets.hadronFlavour,\n",
    "                passWP=jets[taggerBranch[tag]] > btagWPs[tag][year][wp],\n",
    "            )\n",
    "        )\n",
    "        eff = efficiencyinfo[{\"passWP\": True}] / efficiencyinfo[{\"passWP\": sum}]\n",
    "        efflookup = dense_lookup(eff.values(), [ax.edges for ax in eff.axes])\n",
    "        #print(tag, wp, efflookup(np.array([42, 60]), 0.2, 2))\n",
    "\n",
    "    #    cutil.save(efflookup, f\"btageff_{tag}_{wp}_{year}.coffea\")"
   ]
  },
  {
   "cell_type": "code",
   "execution_count": 2,
   "id": "e6ecfd36-59d2-405f-b866-26f669b51edb",
   "metadata": {},
   "outputs": [
    {
     "name": "stdout",
     "output_type": "stream",
     "text": [
      "Hist(\n",
      "  Variable([40, 60, 80, 100, 120, 140, 160, 180, 200, 220, 240, 260, 280, 300, 1000], name='pt'),\n",
      "  Regular(4, 0, 2.5, name='abseta'),\n",
      "  IntCategory([0, 4, 5], name='flavor'),\n",
      "  storage=Double()) # Sum: 53.253257583092044 (nan with flow)\n"
     ]
    }
   ],
   "source": [
    "print(eff)"
   ]
  },
  {
   "cell_type": "code",
   "execution_count": 3,
   "id": "018cc120-18de-4d47-9c38-0fc93648e51f",
   "metadata": {},
   "outputs": [],
   "source": [
    "#s_2d = eff.project(\"pt\",\"abseta\")\n",
    "#s_2d[{\"flavor\": 4j}]"
   ]
  },
  {
   "cell_type": "code",
   "execution_count": 4,
   "id": "be5e31c2-4d55-413a-9c16-c76f4ccee3df",
   "metadata": {},
   "outputs": [],
   "source": [
    "eff_4=eff[{\"flavor\": 4j}]"
   ]
  },
  {
   "cell_type": "code",
   "execution_count": 5,
   "id": "91647efd-b9a0-4b5e-a0ad-532dd63a59f8",
   "metadata": {
    "scrolled": true
   },
   "outputs": [
    {
     "data": {
      "text/plain": [
       "array([[0.15014866, 0.1463964 , 0.14943457, 0.13351499],\n",
       "       [0.12843407, 0.14563929, 0.15162907, 0.13404255],\n",
       "       [0.15214994, 0.14663144, 0.14285714, 0.09621993],\n",
       "       [0.13628319, 0.14132762, 0.13522013, 0.12048193],\n",
       "       [0.1242236 , 0.11397059, 0.12820513, 0.13043478],\n",
       "       [0.1146789 , 0.13068182, 0.16239316, 0.03571429],\n",
       "       [0.10852713, 0.13978495, 0.16666667, 0.10344828],\n",
       "       [0.13333333, 0.234375  , 0.15      , 0.        ],\n",
       "       [0.3125    , 0.19047619, 0.22727273, 0.06666667],\n",
       "       [0.23076923, 0.11111111, 0.07692308, 0.3       ],\n",
       "       [0.125     , 0.05      , 0.2       , 0.125     ],\n",
       "       [0.19230769, 0.11111111, 0.22222222, 0.5       ],\n",
       "       [0.11111111, 0.25      , 0.25      , 0.5       ],\n",
       "       [0.23287671, 0.2       , 0.1875    , 0.25      ]])"
      ]
     },
     "execution_count": 5,
     "metadata": {},
     "output_type": "execute_result"
    }
   ],
   "source": [
    "eff_4.values()"
   ]
  },
  {
   "cell_type": "code",
   "execution_count": 6,
   "id": "06c8eeb7-8589-4418-a749-7aea4d085d62",
   "metadata": {},
   "outputs": [],
   "source": [
    "eff_5=eff[{\"flavor\": 5j}]"
   ]
  },
  {
   "cell_type": "code",
   "execution_count": 7,
   "id": "3b9465f6-f6e8-40bd-ab24-5b1f4b20fafe",
   "metadata": {},
   "outputs": [
    {
     "data": {
      "text/plain": [
       "array([[0.78410903, 0.7682761 , 0.70583851, 0.63814691],\n",
       "       [0.80113435, 0.77900779, 0.72297715, 0.66685457],\n",
       "       [0.81170158, 0.78869407, 0.74451902, 0.6525497 ],\n",
       "       [0.8079096 , 0.80499076, 0.7414421 , 0.69387755],\n",
       "       [0.81218905, 0.81656805, 0.78064516, 0.6875    ],\n",
       "       [0.8246493 , 0.81282051, 0.80272109, 0.72596154],\n",
       "       [0.84285714, 0.83529412, 0.73103448, 0.73770492],\n",
       "       [0.84223919, 0.828125  , 0.74834437, 0.55882353],\n",
       "       [0.84331797, 0.79234973, 0.85964912, 0.66      ],\n",
       "       [0.84795322, 0.77099237, 0.82608696, 0.47826087],\n",
       "       [0.83035714, 0.74509804, 0.67391304, 0.75      ],\n",
       "       [0.82894737, 0.90740741, 0.81481481, 0.625     ],\n",
       "       [0.77777778, 0.77142857, 0.76190476, 1.        ],\n",
       "       [0.795     , 0.80985915, 0.65789474, 0.76923077]])"
      ]
     },
     "execution_count": 7,
     "metadata": {},
     "output_type": "execute_result"
    }
   ],
   "source": [
    "eff_5.values()"
   ]
  },
  {
   "cell_type": "code",
   "execution_count": 8,
   "id": "99fdd0ae-7602-4270-8d9d-4d48813a1a52",
   "metadata": {},
   "outputs": [],
   "source": [
    "eff_0=eff[{\"flavor\": 0j}]"
   ]
  },
  {
   "cell_type": "code",
   "execution_count": 9,
   "id": "5677d304-9c60-42b5-83dc-691833aac35f",
   "metadata": {},
   "outputs": [
    {
     "data": {
      "text/plain": [
       "array([[0.01304503, 0.01384012, 0.01565052, 0.02020417],\n",
       "       [0.00907229, 0.01380572, 0.01528633, 0.01375465],\n",
       "       [0.00880743, 0.01439247, 0.00818076, 0.01154107],\n",
       "       [0.00867769, 0.00718047, 0.01210962, 0.01605505],\n",
       "       [0.01144011, 0.01052632, 0.01607717, 0.01538462],\n",
       "       [0.00785634, 0.01331719, 0.019678  , 0.01759531],\n",
       "       [0.00822368, 0.0125261 , 0.00808625, 0.03030303],\n",
       "       [0.00791557, 0.01290323, 0.00819672, 0.02173913],\n",
       "       [0.00671141, 0.01276596, 0.01829268, 0.03191489],\n",
       "       [0.01675978, 0.01282051, 0.02362205, 0.        ],\n",
       "       [0.00735294, 0.00952381, 0.06185567, 0.02380952],\n",
       "       [0.        , 0.        , 0.03076923, 0.02941176],\n",
       "       [0.        , 0.02325581, 0.04347826, 0.08695652],\n",
       "       [0.03296703, 0.03422053, 0.11229947, 0.10465116]])"
      ]
     },
     "execution_count": 9,
     "metadata": {},
     "output_type": "execute_result"
    }
   ],
   "source": [
    "eff_0.values()"
   ]
  },
  {
   "cell_type": "code",
   "execution_count": null,
   "id": "32e0b707-272c-4bc8-b6cc-394c6a3d2d8f",
   "metadata": {},
   "outputs": [],
   "source": []
  }
 ],
 "metadata": {
  "kernelspec": {
   "display_name": "Python 3 (ipykernel)",
   "language": "python",
   "name": "python3"
  },
  "language_info": {
   "codemirror_mode": {
    "name": "ipython",
    "version": 3
   },
   "file_extension": ".py",
   "mimetype": "text/x-python",
   "name": "python",
   "nbconvert_exporter": "python",
   "pygments_lexer": "ipython3",
   "version": "3.10.15"
  }
 },
 "nbformat": 4,
 "nbformat_minor": 5
}
