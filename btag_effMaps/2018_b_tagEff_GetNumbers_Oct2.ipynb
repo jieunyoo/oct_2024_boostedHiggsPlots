{
 "cells": [
  {
   "cell_type": "code",
   "execution_count": 1,
   "id": "c73fcdab-4fba-48fe-90e2-7bf02b7a6f64",
   "metadata": {},
   "outputs": [
    {
     "name": "stderr",
     "output_type": "stream",
     "text": [
      "/home/jieun201/.local/lib/python3.10/site-packages/coffea/nanoevents/mapping/uproot.py:86: UserWarning: Found duplicate branch FatJetAK15SubJet_nBHadrons in <TTree 'Events' (1937 branches) at 0x7f1ba96421d0>, taking first instance\n",
      "  warnings.warn(\n",
      "/home/jieun201/.local/lib/python3.10/site-packages/coffea/nanoevents/mapping/uproot.py:86: UserWarning: Found duplicate branch FatJetAK15SubJet_nCHadrons in <TTree 'Events' (1937 branches) at 0x7f1ba96421d0>, taking first instance\n",
      "  warnings.warn(\n",
      "/home/jieun201/.local/lib/python3.10/site-packages/coffea/nanoevents/mapping/uproot.py:86: UserWarning: Found duplicate branch FatJetAK15_nBHadrons in <TTree 'Events' (1937 branches) at 0x7f1ba96421d0>, taking first instance\n",
      "  warnings.warn(\n",
      "/home/jieun201/.local/lib/python3.10/site-packages/coffea/nanoevents/mapping/uproot.py:86: UserWarning: Found duplicate branch FatJetAK15_nCHadrons in <TTree 'Events' (1937 branches) at 0x7f1ba96421d0>, taking first instance\n",
      "  warnings.warn(\n",
      "/home/jieun201/.local/lib/python3.10/site-packages/coffea/nanoevents/mapping/uproot.py:86: UserWarning: Found duplicate branch FatJet_btagDDBvLV2 in <TTree 'Events' (1937 branches) at 0x7f1ba96421d0>, taking first instance\n",
      "  warnings.warn(\n",
      "/home/jieun201/.local/lib/python3.10/site-packages/coffea/nanoevents/mapping/uproot.py:86: UserWarning: Found duplicate branch FatJet_btagDDCvBV2 in <TTree 'Events' (1937 branches) at 0x7f1ba96421d0>, taking first instance\n",
      "  warnings.warn(\n",
      "/home/jieun201/.local/lib/python3.10/site-packages/coffea/nanoevents/mapping/uproot.py:86: UserWarning: Found duplicate branch FatJet_btagDDCvLV2 in <TTree 'Events' (1937 branches) at 0x7f1ba96421d0>, taking first instance\n",
      "  warnings.warn(\n",
      "/home/jieun201/.local/lib/python3.10/site-packages/coffea/nanoevents/mapping/uproot.py:86: UserWarning: Found duplicate branch FatJet_nBHadrons in <TTree 'Events' (1937 branches) at 0x7f1ba96421d0>, taking first instance\n",
      "  warnings.warn(\n",
      "/home/jieun201/.local/lib/python3.10/site-packages/coffea/nanoevents/mapping/uproot.py:86: UserWarning: Found duplicate branch FatJet_nCHadrons in <TTree 'Events' (1937 branches) at 0x7f1ba96421d0>, taking first instance\n",
      "  warnings.warn(\n",
      "/home/jieun201/.local/lib/python3.10/site-packages/coffea/nanoevents/mapping/uproot.py:86: UserWarning: Found duplicate branch SubJet_nBHadrons in <TTree 'Events' (1937 branches) at 0x7f1ba96421d0>, taking first instance\n",
      "  warnings.warn(\n",
      "/home/jieun201/.local/lib/python3.10/site-packages/coffea/nanoevents/mapping/uproot.py:86: UserWarning: Found duplicate branch SubJet_nCHadrons in <TTree 'Events' (1937 branches) at 0x7f1ba96421d0>, taking first instance\n",
      "  warnings.warn(\n"
     ]
    }
   ],
   "source": [
    "import awkward as ak\n",
    "import hist\n",
    "import numpy as np\n",
    "from coffea import util as cutil\n",
    "from coffea.lookup_tools.dense_lookup import dense_lookup\n",
    "from coffea.nanoevents import NanoAODSchema, NanoEventsFactory\n",
    "\n",
    "btagWPs = {\n",
    "    \"deepJet\": {\n",
    "        \"2016preVFP_UL\": {\n",
    "            \"L\": 0.0508,\n",
    "            \"M\": 0.2598,\n",
    "            \"T\": 0.6502,\n",
    "        },\n",
    "        \"2016postVFP_UL\": {\n",
    "            \"L\": 0.0480,\n",
    "            \"M\": 0.2489,\n",
    "            \"T\": 0.6377,\n",
    "        },\n",
    "        \"2017_UL\": {\n",
    "            \"L\": 0.0532,\n",
    "            \"M\": 0.3040,\n",
    "            \"T\": 0.7476,\n",
    "        },\n",
    "        \"2018_UL\": {\n",
    "            \"L\": 0.0490,\n",
    "            \"M\": 0.2783,\n",
    "            \"T\": 0.7100,\n",
    "        },\n",
    "    },\n",
    "    \"deepCSV\": {\n",
    "        \"2016preVFP_UL\": {\n",
    "            \"L\": 0.2027,\n",
    "            \"M\": 0.6001,\n",
    "            \"T\": 0.8819,\n",
    "        },\n",
    "        \"2016postVFP_UL\": {\n",
    "            \"L\": 0.1918,\n",
    "            \"M\": 0.5847,\n",
    "            \"T\": 0.8767,\n",
    "        },\n",
    "        \"2017_UL\": {\n",
    "            \"L\": 0.1355,\n",
    "            \"M\": 0.4506,\n",
    "            \"T\": 0.7738,\n",
    "        },\n",
    "        \"2018_UL\": {\n",
    "            \"L\": 0.1208,\n",
    "            \"M\": 0.4168,\n",
    "            \"T\": 0.7665,\n",
    "        },\n",
    "    },\n",
    "}\n",
    "\n",
    "# single TT files to derive efficiency\n",
    "\n",
    "taggerBranch = {\"deepJet\": \"btagDeepFlavB\", \"deepCSV\": \"btagDeepB\"}\n",
    "\n",
    "\n",
    "file1 = \"/uscms_data/d3/jieun201/YOURWORKINGAREA/nano_mc2018_2-15.root\"\n",
    "\n",
    "events = NanoEventsFactory.from_root(\n",
    "    file1,\n",
    "entry_stop=100_000, schemaclass=NanoAODSchema,\n",
    ").events()\n",
    "year = '2018_UL'\n",
    "\n",
    "#events = file1.events()\n",
    "\n",
    "# b-tagging only applied for jets with |eta| < 2.5\n",
    "phasespace_cuts = (events.Jet.pt > 30) & (abs(events.Jet.eta) < 2.5)\n",
    "jets = ak.flatten(events.Jet[phasespace_cuts])\n",
    "\n",
    "bins = [40,60,80,100,120,140,160,180,200,220,240,260,280,300,1000]\n",
    "\n",
    "\n",
    "#for tag in [\"deepJet\", \"deepCSV\"]:\n",
    "for tag in [\"deepJet\"]:\n",
    "    #for wp in [\"L\", \"M\", \"T\"]:\n",
    "    for wp in [\"M\"]:\n",
    "        efficiencyinfo = (\n",
    "            hist.Hist.new.Variable(bins, name=\"pt\")\n",
    "            .Reg(4, 0, 2.5, name=\"abseta\")\n",
    "            .IntCat([0, 4, 5], name=\"flavor\")\n",
    "            .Bool(name=\"passWP\")\n",
    "            .Double()\n",
    "            .fill(\n",
    "                pt=jets.pt,\n",
    "                abseta=abs(jets.eta),\n",
    "                flavor=jets.hadronFlavour,\n",
    "                passWP=jets[taggerBranch[tag]] > btagWPs[tag][year][wp],\n",
    "            )\n",
    "        )\n",
    "        eff = efficiencyinfo[{\"passWP\": True}] / efficiencyinfo[{\"passWP\": sum}]\n",
    "        efflookup = dense_lookup(eff.values(), [ax.edges for ax in eff.axes])\n",
    "        #print(tag, wp, efflookup(np.array([42, 60]), 0.2, 2))\n",
    "\n",
    "    #    cutil.save(efflookup, f\"btageff_{tag}_{wp}_{year}.coffea\")"
   ]
  },
  {
   "cell_type": "code",
   "execution_count": 2,
   "id": "e6ecfd36-59d2-405f-b866-26f669b51edb",
   "metadata": {},
   "outputs": [
    {
     "name": "stdout",
     "output_type": "stream",
     "text": [
      "Hist(\n",
      "  Variable([40, 60, 80, 100, 120, 140, 160, 180, 200, 220, 240, 260, 280, 300, 1000], name='pt'),\n",
      "  Regular(4, 0, 2.5, name='abseta'),\n",
      "  IntCategory([0, 4, 5], name='flavor'),\n",
      "  storage=Double()) # Sum: 55.17669109358745 (nan with flow)\n"
     ]
    }
   ],
   "source": [
    "print(eff)"
   ]
  },
  {
   "cell_type": "code",
   "execution_count": 3,
   "id": "018cc120-18de-4d47-9c38-0fc93648e51f",
   "metadata": {},
   "outputs": [],
   "source": [
    "#s_2d = eff.project(\"pt\",\"abseta\")\n",
    "#s_2d[{\"flavor\": 4j}]"
   ]
  },
  {
   "cell_type": "code",
   "execution_count": 4,
   "id": "be5e31c2-4d55-413a-9c16-c76f4ccee3df",
   "metadata": {},
   "outputs": [],
   "source": [
    "eff_4=eff[{\"flavor\": 4j}]"
   ]
  },
  {
   "cell_type": "code",
   "execution_count": 5,
   "id": "91647efd-b9a0-4b5e-a0ad-532dd63a59f8",
   "metadata": {
    "scrolled": true
   },
   "outputs": [
    {
     "data": {
      "text/plain": [
       "array([[0.16682708, 0.15991157, 0.15822454, 0.15741583],\n",
       "       [0.15064819, 0.14890198, 0.14739229, 0.15384615],\n",
       "       [0.15260197, 0.16372392, 0.15932642, 0.14553991],\n",
       "       [0.13463751, 0.12846715, 0.15351812, 0.15272727],\n",
       "       [0.16992188, 0.14772727, 0.1827957 , 0.13793103],\n",
       "       [0.1202346 , 0.1529052 , 0.12222222, 0.12941176],\n",
       "       [0.15021459, 0.12025316, 0.1627907 , 0.1875    ],\n",
       "       [0.18831169, 0.125     , 0.14457831, 0.13043478],\n",
       "       [0.1954023 , 0.11688312, 0.2       , 0.08333333],\n",
       "       [0.21126761, 0.12280702, 0.125     , 0.2       ],\n",
       "       [0.15217391, 0.14285714, 0.23333333, 0.        ],\n",
       "       [0.08333333, 0.08695652, 0.16666667, 0.25      ],\n",
       "       [0.18518519, 0.14285714, 0.23076923, 0.        ],\n",
       "       [0.18181818, 0.2875    , 0.26190476, 0.26666667]])"
      ]
     },
     "execution_count": 5,
     "metadata": {},
     "output_type": "execute_result"
    }
   ],
   "source": [
    "eff_4.values()"
   ]
  },
  {
   "cell_type": "code",
   "execution_count": 6,
   "id": "06c8eeb7-8589-4418-a749-7aea4d085d62",
   "metadata": {},
   "outputs": [],
   "source": [
    "eff_5=eff[{\"flavor\": 5j}]"
   ]
  },
  {
   "cell_type": "code",
   "execution_count": 7,
   "id": "3b9465f6-f6e8-40bd-ab24-5b1f4b20fafe",
   "metadata": {},
   "outputs": [
    {
     "data": {
      "text/plain": [
       "array([[0.83130289, 0.81678487, 0.78661654, 0.74211957],\n",
       "       [0.85112048, 0.83864515, 0.78445719, 0.77493606],\n",
       "       [0.86314469, 0.85078994, 0.8003992 , 0.77990169],\n",
       "       [0.86227689, 0.84998463, 0.80175196, 0.74382434],\n",
       "       [0.87926303, 0.85130478, 0.84128225, 0.77272727],\n",
       "       [0.87427838, 0.85627376, 0.81521739, 0.80434783],\n",
       "       [0.875     , 0.8515625 , 0.8280543 , 0.80368098],\n",
       "       [0.87617555, 0.86307054, 0.81090909, 0.775     ],\n",
       "       [0.85128205, 0.86557377, 0.75862069, 0.77419355],\n",
       "       [0.87591241, 0.82901554, 0.85416667, 0.74358974],\n",
       "       [0.83695652, 0.82432432, 0.86111111, 0.73684211],\n",
       "       [0.82758621, 0.88172043, 0.79069767, 0.63636364],\n",
       "       [0.82758621, 0.84285714, 0.82758621, 0.8       ],\n",
       "       [0.84848485, 0.8241206 , 0.73786408, 0.63157895]])"
      ]
     },
     "execution_count": 7,
     "metadata": {},
     "output_type": "execute_result"
    }
   ],
   "source": [
    "eff_5.values()"
   ]
  },
  {
   "cell_type": "code",
   "execution_count": 8,
   "id": "99fdd0ae-7602-4270-8d9d-4d48813a1a52",
   "metadata": {},
   "outputs": [],
   "source": [
    "eff_0=eff[{\"flavor\": 0j}]"
   ]
  },
  {
   "cell_type": "code",
   "execution_count": 9,
   "id": "5677d304-9c60-42b5-83dc-691833aac35f",
   "metadata": {},
   "outputs": [
    {
     "data": {
      "text/plain": [
       "array([[0.01542078, 0.01510731, 0.01787759, 0.0239293 ],\n",
       "       [0.01004108, 0.00963983, 0.01332943, 0.01077111],\n",
       "       [0.00971021, 0.01071811, 0.01254826, 0.01287375],\n",
       "       [0.0084399 , 0.00969991, 0.01033912, 0.0131397 ],\n",
       "       [0.00568182, 0.0075643 , 0.01166559, 0.01598174],\n",
       "       [0.00765484, 0.00924499, 0.01371429, 0.00519031],\n",
       "       [0.0105042 , 0.00367197, 0.01208981, 0.02910053],\n",
       "       [0.00516351, 0.00924214, 0.00746269, 0.02347418],\n",
       "       [0.00492611, 0.01709402, 0.00749064, 0.00641026],\n",
       "       [0.01355932, 0.01149425, 0.00483092, 0.01904762],\n",
       "       [0.0097561 , 0.02083333, 0.01612903, 0.06578947],\n",
       "       [0.        , 0.00694444, 0.00934579, 0.01666667],\n",
       "       [0.01626016, 0.00909091, 0.015625  , 0.        ],\n",
       "       [0.01742919, 0.01877934, 0.04923077, 0.06206897]])"
      ]
     },
     "execution_count": 9,
     "metadata": {},
     "output_type": "execute_result"
    }
   ],
   "source": [
    "eff_0.values()"
   ]
  },
  {
   "cell_type": "code",
   "execution_count": null,
   "id": "32e0b707-272c-4bc8-b6cc-394c6a3d2d8f",
   "metadata": {},
   "outputs": [],
   "source": []
  }
 ],
 "metadata": {
  "kernelspec": {
   "display_name": "Python 3 (ipykernel)",
   "language": "python",
   "name": "python3"
  },
  "language_info": {
   "codemirror_mode": {
    "name": "ipython",
    "version": 3
   },
   "file_extension": ".py",
   "mimetype": "text/x-python",
   "name": "python",
   "nbconvert_exporter": "python",
   "pygments_lexer": "ipython3",
   "version": "3.10.15"
  }
 },
 "nbformat": 4,
 "nbformat_minor": 5
}
