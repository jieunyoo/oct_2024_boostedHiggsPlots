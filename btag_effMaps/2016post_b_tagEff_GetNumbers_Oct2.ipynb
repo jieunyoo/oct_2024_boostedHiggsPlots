{
 "cells": [
  {
   "cell_type": "code",
   "execution_count": 1,
   "id": "c73fcdab-4fba-48fe-90e2-7bf02b7a6f64",
   "metadata": {},
   "outputs": [
    {
     "name": "stderr",
     "output_type": "stream",
     "text": [
      "/home/jieun201/.local/lib/python3.10/site-packages/coffea/nanoevents/mapping/uproot.py:86: UserWarning: Found duplicate branch FatJetAK15SubJet_nBHadrons in <TTree 'Events' (1813 branches) at 0x7f6e6ac02170>, taking first instance\n",
      "  warnings.warn(\n",
      "/home/jieun201/.local/lib/python3.10/site-packages/coffea/nanoevents/mapping/uproot.py:86: UserWarning: Found duplicate branch FatJetAK15SubJet_nCHadrons in <TTree 'Events' (1813 branches) at 0x7f6e6ac02170>, taking first instance\n",
      "  warnings.warn(\n",
      "/home/jieun201/.local/lib/python3.10/site-packages/coffea/nanoevents/mapping/uproot.py:86: UserWarning: Found duplicate branch FatJetAK15_nBHadrons in <TTree 'Events' (1813 branches) at 0x7f6e6ac02170>, taking first instance\n",
      "  warnings.warn(\n",
      "/home/jieun201/.local/lib/python3.10/site-packages/coffea/nanoevents/mapping/uproot.py:86: UserWarning: Found duplicate branch FatJetAK15_nCHadrons in <TTree 'Events' (1813 branches) at 0x7f6e6ac02170>, taking first instance\n",
      "  warnings.warn(\n",
      "/home/jieun201/.local/lib/python3.10/site-packages/coffea/nanoevents/mapping/uproot.py:86: UserWarning: Found duplicate branch FatJet_btagDDBvLV2 in <TTree 'Events' (1813 branches) at 0x7f6e6ac02170>, taking first instance\n",
      "  warnings.warn(\n",
      "/home/jieun201/.local/lib/python3.10/site-packages/coffea/nanoevents/mapping/uproot.py:86: UserWarning: Found duplicate branch FatJet_btagDDCvBV2 in <TTree 'Events' (1813 branches) at 0x7f6e6ac02170>, taking first instance\n",
      "  warnings.warn(\n",
      "/home/jieun201/.local/lib/python3.10/site-packages/coffea/nanoevents/mapping/uproot.py:86: UserWarning: Found duplicate branch FatJet_btagDDCvLV2 in <TTree 'Events' (1813 branches) at 0x7f6e6ac02170>, taking first instance\n",
      "  warnings.warn(\n",
      "/home/jieun201/.local/lib/python3.10/site-packages/coffea/nanoevents/mapping/uproot.py:86: UserWarning: Found duplicate branch FatJet_nBHadrons in <TTree 'Events' (1813 branches) at 0x7f6e6ac02170>, taking first instance\n",
      "  warnings.warn(\n",
      "/home/jieun201/.local/lib/python3.10/site-packages/coffea/nanoevents/mapping/uproot.py:86: UserWarning: Found duplicate branch FatJet_nCHadrons in <TTree 'Events' (1813 branches) at 0x7f6e6ac02170>, taking first instance\n",
      "  warnings.warn(\n",
      "/home/jieun201/.local/lib/python3.10/site-packages/coffea/nanoevents/mapping/uproot.py:86: UserWarning: Found duplicate branch SubJet_nBHadrons in <TTree 'Events' (1813 branches) at 0x7f6e6ac02170>, taking first instance\n",
      "  warnings.warn(\n",
      "/home/jieun201/.local/lib/python3.10/site-packages/coffea/nanoevents/mapping/uproot.py:86: UserWarning: Found duplicate branch SubJet_nCHadrons in <TTree 'Events' (1813 branches) at 0x7f6e6ac02170>, taking first instance\n",
      "  warnings.warn(\n"
     ]
    }
   ],
   "source": [
    "import awkward as ak\n",
    "import hist\n",
    "import numpy as np\n",
    "from coffea import util as cutil\n",
    "from coffea.lookup_tools.dense_lookup import dense_lookup\n",
    "from coffea.nanoevents import NanoAODSchema, NanoEventsFactory\n",
    "\n",
    "btagWPs = {\n",
    "    \"deepJet\": {\n",
    "        \"2016preVFP_UL\": {\n",
    "            \"L\": 0.0508,\n",
    "            \"M\": 0.2598,\n",
    "            \"T\": 0.6502,\n",
    "        },\n",
    "        \"2016postVFP_UL\": {\n",
    "            \"L\": 0.0480,\n",
    "            \"M\": 0.2489,\n",
    "            \"T\": 0.6377,\n",
    "        },\n",
    "        \"2017_UL\": {\n",
    "            \"L\": 0.0532,\n",
    "            \"M\": 0.3040,\n",
    "            \"T\": 0.7476,\n",
    "        },\n",
    "        \"2018_UL\": {\n",
    "            \"L\": 0.0490,\n",
    "            \"M\": 0.2783,\n",
    "            \"T\": 0.7100,\n",
    "        },\n",
    "    },\n",
    "    \"deepCSV\": {\n",
    "        \"2016preVFP_UL\": {\n",
    "            \"L\": 0.2027,\n",
    "            \"M\": 0.6001,\n",
    "            \"T\": 0.8819,\n",
    "        },\n",
    "        \"2016postVFP_UL\": {\n",
    "            \"L\": 0.1918,\n",
    "            \"M\": 0.5847,\n",
    "            \"T\": 0.8767,\n",
    "        },\n",
    "        \"2017_UL\": {\n",
    "            \"L\": 0.1355,\n",
    "            \"M\": 0.4506,\n",
    "            \"T\": 0.7738,\n",
    "        },\n",
    "        \"2018_UL\": {\n",
    "            \"L\": 0.1208,\n",
    "            \"M\": 0.4168,\n",
    "            \"T\": 0.7665,\n",
    "        },\n",
    "    },\n",
    "}\n",
    "\n",
    "# single TT files to derive efficiency\n",
    "\n",
    "taggerBranch = {\"deepJet\": \"btagDeepFlavB\", \"deepCSV\": \"btagDeepB\"}\n",
    "\n",
    "\n",
    "file1 = \"/uscms_data/d3/jieun201/YOURWORKINGAREA/nano_mc2016post_3-30.root\"\n",
    "\n",
    "events = NanoEventsFactory.from_root(\n",
    "    file1,\n",
    "entry_stop=100_000, schemaclass=NanoAODSchema,\n",
    ").events()\n",
    "year = '2016postVFP_UL'\n",
    "\n",
    "#events = file1.events()\n",
    "\n",
    "# b-tagging only applied for jets with |eta| < 2.5\n",
    "phasespace_cuts = (events.Jet.pt > 30) & (abs(events.Jet.eta) < 2.5)\n",
    "jets = ak.flatten(events.Jet[phasespace_cuts])\n",
    "\n",
    "bins = [40,60,80,100,120,140,160,180,200,220,240,260,280,300,1000]\n",
    "\n",
    "\n",
    "#for tag in [\"deepJet\", \"deepCSV\"]:\n",
    "for tag in [\"deepJet\"]:\n",
    "    #for wp in [\"L\", \"M\", \"T\"]:\n",
    "    for wp in [\"M\"]:\n",
    "        efficiencyinfo = (\n",
    "            hist.Hist.new.Variable(bins, name=\"pt\")\n",
    "            .Reg(4, 0, 2.5, name=\"abseta\")\n",
    "            .IntCat([0, 4, 5], name=\"flavor\")\n",
    "            .Bool(name=\"passWP\")\n",
    "            .Double()\n",
    "            .fill(\n",
    "                pt=jets.pt,\n",
    "                abseta=abs(jets.eta),\n",
    "                flavor=jets.hadronFlavour,\n",
    "                passWP=jets[taggerBranch[tag]] > btagWPs[tag][year][wp],\n",
    "            )\n",
    "        )\n",
    "        eff = efficiencyinfo[{\"passWP\": True}] / efficiencyinfo[{\"passWP\": sum}]\n",
    "        efflookup = dense_lookup(eff.values(), [ax.edges for ax in eff.axes])\n",
    "        #print(tag, wp, efflookup(np.array([42, 60]), 0.2, 2))\n",
    "\n",
    "    #    cutil.save(efflookup, f\"btageff_{tag}_{wp}_{year}.coffea\")"
   ]
  },
  {
   "cell_type": "code",
   "execution_count": 2,
   "id": "e6ecfd36-59d2-405f-b866-26f669b51edb",
   "metadata": {},
   "outputs": [
    {
     "name": "stdout",
     "output_type": "stream",
     "text": [
      "Hist(\n",
      "  Variable([40, 60, 80, 100, 120, 140, 160, 180, 200, 220, 240, 260, 280, 300, 1000], name='pt'),\n",
      "  Regular(4, 0, 2.5, name='abseta'),\n",
      "  IntCategory([0, 4, 5], name='flavor'),\n",
      "  storage=Double()) # Sum: 53.47074014216 (nan with flow)\n"
     ]
    }
   ],
   "source": [
    "print(eff)"
   ]
  },
  {
   "cell_type": "code",
   "execution_count": 3,
   "id": "018cc120-18de-4d47-9c38-0fc93648e51f",
   "metadata": {},
   "outputs": [],
   "source": [
    "#s_2d = eff.project(\"pt\",\"abseta\")\n",
    "#s_2d[{\"flavor\": 4j}]"
   ]
  },
  {
   "cell_type": "code",
   "execution_count": 4,
   "id": "be5e31c2-4d55-413a-9c16-c76f4ccee3df",
   "metadata": {},
   "outputs": [],
   "source": [
    "eff_4=eff[{\"flavor\": 4j}]"
   ]
  },
  {
   "cell_type": "code",
   "execution_count": 5,
   "id": "91647efd-b9a0-4b5e-a0ad-532dd63a59f8",
   "metadata": {
    "scrolled": true
   },
   "outputs": [
    {
     "data": {
      "text/plain": [
       "array([[0.15840622, 0.1661055 , 0.15048544, 0.14205345],\n",
       "       [0.15851955, 0.16323166, 0.14771395, 0.11378556],\n",
       "       [0.14157303, 0.16877637, 0.13211382, 0.1590106 ],\n",
       "       [0.15277778, 0.1425486 , 0.15789474, 0.11678832],\n",
       "       [0.15649867, 0.12654321, 0.12568306, 0.12371134],\n",
       "       [0.15315315, 0.14450867, 0.12631579, 0.2       ],\n",
       "       [0.12582781, 0.13592233, 0.12328767, 0.15625   ],\n",
       "       [0.17592593, 0.17721519, 0.        , 0.25925926],\n",
       "       [0.1       , 0.10869565, 0.23809524, 0.        ],\n",
       "       [0.21875   , 0.225     , 0.1875    , 0.        ],\n",
       "       [0.25      , 0.05555556, 0.0625    , 0.        ],\n",
       "       [0.2       , 0.16666667, 0.33333333, 0.        ],\n",
       "       [0.16666667, 0.16666667, 0.33333333, 0.        ],\n",
       "       [0.25      , 0.27118644, 0.42857143, 0.30769231]])"
      ]
     },
     "execution_count": 5,
     "metadata": {},
     "output_type": "execute_result"
    }
   ],
   "source": [
    "eff_4.values()"
   ]
  },
  {
   "cell_type": "code",
   "execution_count": 6,
   "id": "06c8eeb7-8589-4418-a749-7aea4d085d62",
   "metadata": {},
   "outputs": [],
   "source": [
    "eff_5=eff[{\"flavor\": 5j}]"
   ]
  },
  {
   "cell_type": "code",
   "execution_count": 7,
   "id": "3b9465f6-f6e8-40bd-ab24-5b1f4b20fafe",
   "metadata": {},
   "outputs": [
    {
     "data": {
      "text/plain": [
       "array([[0.80782238, 0.78999663, 0.73253069, 0.65414455],\n",
       "       [0.82039951, 0.80343117, 0.75884544, 0.66197975],\n",
       "       [0.82637307, 0.81314355, 0.75733207, 0.69823009],\n",
       "       [0.83294931, 0.82127456, 0.7450565 , 0.6754386 ],\n",
       "       [0.82945736, 0.83547352, 0.78453739, 0.74855491],\n",
       "       [0.84069887, 0.8278481 , 0.76282051, 0.69662921],\n",
       "       [0.84494774, 0.83333333, 0.77922078, 0.71681416],\n",
       "       [0.82044888, 0.78169014, 0.7791411 , 0.73770492],\n",
       "       [0.86585366, 0.83417085, 0.86792453, 0.76190476],\n",
       "       [0.82035928, 0.86363636, 0.66197183, 0.63157895],\n",
       "       [0.78991597, 0.875     , 0.81818182, 0.5625    ],\n",
       "       [0.79452055, 0.81818182, 0.80769231, 0.91666667],\n",
       "       [0.86885246, 0.89361702, 0.76190476, 0.72727273],\n",
       "       [0.8030303 , 0.83088235, 0.71428571, 0.53333333]])"
      ]
     },
     "execution_count": 7,
     "metadata": {},
     "output_type": "execute_result"
    }
   ],
   "source": [
    "eff_5.values()"
   ]
  },
  {
   "cell_type": "code",
   "execution_count": 8,
   "id": "99fdd0ae-7602-4270-8d9d-4d48813a1a52",
   "metadata": {},
   "outputs": [],
   "source": [
    "eff_0=eff[{\"flavor\": 0j}]"
   ]
  },
  {
   "cell_type": "code",
   "execution_count": 9,
   "id": "5677d304-9c60-42b5-83dc-691833aac35f",
   "metadata": {},
   "outputs": [
    {
     "data": {
      "text/plain": [
       "array([[0.01395099, 0.01690521, 0.01907245, 0.02544317],\n",
       "       [0.00968271, 0.0097586 , 0.01477719, 0.01705191],\n",
       "       [0.00672311, 0.01096738, 0.01358491, 0.01804124],\n",
       "       [0.00885312, 0.01196172, 0.01154107, 0.01762115],\n",
       "       [0.00723208, 0.00868878, 0.0087146 , 0.01459854],\n",
       "       [0.00671892, 0.00918485, 0.00821018, 0.02108434],\n",
       "       [0.01145663, 0.00564972, 0.00753769, 0.01485149],\n",
       "       [0.00257732, 0.01190476, 0.01229508, 0.02238806],\n",
       "       [0.01498127, 0.01321586, 0.01020408, 0.02586207],\n",
       "       [0.00613497, 0.01162791, 0.        , 0.02531646],\n",
       "       [0.02362205, 0.00943396, 0.02531646, 0.1       ],\n",
       "       [0.01123596, 0.01428571, 0.02898551, 0.        ],\n",
       "       [0.        , 0.05172414, 0.04255319, 0.03333333],\n",
       "       [0.02702703, 0.04347826, 0.04020101, 0.11956522]])"
      ]
     },
     "execution_count": 9,
     "metadata": {},
     "output_type": "execute_result"
    }
   ],
   "source": [
    "eff_0.values()"
   ]
  },
  {
   "cell_type": "code",
   "execution_count": null,
   "id": "32e0b707-272c-4bc8-b6cc-394c6a3d2d8f",
   "metadata": {},
   "outputs": [],
   "source": []
  }
 ],
 "metadata": {
  "kernelspec": {
   "display_name": "Python 3 (ipykernel)",
   "language": "python",
   "name": "python3"
  },
  "language_info": {
   "codemirror_mode": {
    "name": "ipython",
    "version": 3
   },
   "file_extension": ".py",
   "mimetype": "text/x-python",
   "name": "python",
   "nbconvert_exporter": "python",
   "pygments_lexer": "ipython3",
   "version": "3.10.15"
  }
 },
 "nbformat": 4,
 "nbformat_minor": 5
}
