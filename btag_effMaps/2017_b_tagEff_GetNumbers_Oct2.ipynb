{
 "cells": [
  {
   "cell_type": "code",
   "execution_count": 1,
   "id": "c73fcdab-4fba-48fe-90e2-7bf02b7a6f64",
   "metadata": {},
   "outputs": [
    {
     "name": "stderr",
     "output_type": "stream",
     "text": [
      "/home/jieun201/.local/lib/python3.10/site-packages/coffea/nanoevents/mapping/uproot.py:86: UserWarning: Found duplicate branch FatJetAK15SubJet_nBHadrons in <TTree 'Events' (1975 branches) at 0x7f14ff3220e0>, taking first instance\n",
      "  warnings.warn(\n",
      "/home/jieun201/.local/lib/python3.10/site-packages/coffea/nanoevents/mapping/uproot.py:86: UserWarning: Found duplicate branch FatJetAK15SubJet_nCHadrons in <TTree 'Events' (1975 branches) at 0x7f14ff3220e0>, taking first instance\n",
      "  warnings.warn(\n",
      "/home/jieun201/.local/lib/python3.10/site-packages/coffea/nanoevents/mapping/uproot.py:86: UserWarning: Found duplicate branch FatJetAK15_nBHadrons in <TTree 'Events' (1975 branches) at 0x7f14ff3220e0>, taking first instance\n",
      "  warnings.warn(\n",
      "/home/jieun201/.local/lib/python3.10/site-packages/coffea/nanoevents/mapping/uproot.py:86: UserWarning: Found duplicate branch FatJetAK15_nCHadrons in <TTree 'Events' (1975 branches) at 0x7f14ff3220e0>, taking first instance\n",
      "  warnings.warn(\n",
      "/home/jieun201/.local/lib/python3.10/site-packages/coffea/nanoevents/mapping/uproot.py:86: UserWarning: Found duplicate branch FatJet_btagDDBvLV2 in <TTree 'Events' (1975 branches) at 0x7f14ff3220e0>, taking first instance\n",
      "  warnings.warn(\n",
      "/home/jieun201/.local/lib/python3.10/site-packages/coffea/nanoevents/mapping/uproot.py:86: UserWarning: Found duplicate branch FatJet_btagDDCvBV2 in <TTree 'Events' (1975 branches) at 0x7f14ff3220e0>, taking first instance\n",
      "  warnings.warn(\n",
      "/home/jieun201/.local/lib/python3.10/site-packages/coffea/nanoevents/mapping/uproot.py:86: UserWarning: Found duplicate branch FatJet_btagDDCvLV2 in <TTree 'Events' (1975 branches) at 0x7f14ff3220e0>, taking first instance\n",
      "  warnings.warn(\n",
      "/home/jieun201/.local/lib/python3.10/site-packages/coffea/nanoevents/mapping/uproot.py:86: UserWarning: Found duplicate branch FatJet_nBHadrons in <TTree 'Events' (1975 branches) at 0x7f14ff3220e0>, taking first instance\n",
      "  warnings.warn(\n",
      "/home/jieun201/.local/lib/python3.10/site-packages/coffea/nanoevents/mapping/uproot.py:86: UserWarning: Found duplicate branch FatJet_nCHadrons in <TTree 'Events' (1975 branches) at 0x7f14ff3220e0>, taking first instance\n",
      "  warnings.warn(\n",
      "/home/jieun201/.local/lib/python3.10/site-packages/coffea/nanoevents/mapping/uproot.py:86: UserWarning: Found duplicate branch SubJet_nBHadrons in <TTree 'Events' (1975 branches) at 0x7f14ff3220e0>, taking first instance\n",
      "  warnings.warn(\n",
      "/home/jieun201/.local/lib/python3.10/site-packages/coffea/nanoevents/mapping/uproot.py:86: UserWarning: Found duplicate branch SubJet_nCHadrons in <TTree 'Events' (1975 branches) at 0x7f14ff3220e0>, taking first instance\n",
      "  warnings.warn(\n"
     ]
    }
   ],
   "source": [
    "import awkward as ak\n",
    "import hist\n",
    "import numpy as np\n",
    "from coffea import util as cutil\n",
    "from coffea.lookup_tools.dense_lookup import dense_lookup\n",
    "from coffea.nanoevents import NanoAODSchema, NanoEventsFactory\n",
    "\n",
    "btagWPs = {\n",
    "    \"deepJet\": {\n",
    "        \"2016preVFP_UL\": {\n",
    "            \"L\": 0.0508,\n",
    "            \"M\": 0.2598,\n",
    "            \"T\": 0.6502,\n",
    "        },\n",
    "        \"2016postVFP_UL\": {\n",
    "            \"L\": 0.0480,\n",
    "            \"M\": 0.2489,\n",
    "            \"T\": 0.6377,\n",
    "        },\n",
    "        \"2017_UL\": {\n",
    "            \"L\": 0.0532,\n",
    "            \"M\": 0.3040,\n",
    "            \"T\": 0.7476,\n",
    "        },\n",
    "        \"2018_UL\": {\n",
    "            \"L\": 0.0490,\n",
    "            \"M\": 0.2783,\n",
    "            \"T\": 0.7100,\n",
    "        },\n",
    "    },\n",
    "    \"deepCSV\": {\n",
    "        \"2016preVFP_UL\": {\n",
    "            \"L\": 0.2027,\n",
    "            \"M\": 0.6001,\n",
    "            \"T\": 0.8819,\n",
    "        },\n",
    "        \"2016postVFP_UL\": {\n",
    "            \"L\": 0.1918,\n",
    "            \"M\": 0.5847,\n",
    "            \"T\": 0.8767,\n",
    "        },\n",
    "        \"2017_UL\": {\n",
    "            \"L\": 0.1355,\n",
    "            \"M\": 0.4506,\n",
    "            \"T\": 0.7738,\n",
    "        },\n",
    "        \"2018_UL\": {\n",
    "            \"L\": 0.1208,\n",
    "            \"M\": 0.4168,\n",
    "            \"T\": 0.7665,\n",
    "        },\n",
    "    },\n",
    "}\n",
    "\n",
    "# single TT files to derive efficiency\n",
    "\n",
    "taggerBranch = {\"deepJet\": \"btagDeepFlavB\", \"deepCSV\": \"btagDeepB\"}\n",
    "\n",
    "\n",
    "file1 = \"/uscms_data/d3/jieun201/YOURWORKINGAREA/nano_mc2017_227.root\"\n",
    "\n",
    "events = NanoEventsFactory.from_root(\n",
    "    file1,\n",
    "entry_stop=100_000, schemaclass=NanoAODSchema,\n",
    ").events()\n",
    "year = '2017_UL'\n",
    "\n",
    "#events = file1.events()\n",
    "\n",
    "# b-tagging only applied for jets with |eta| < 2.5\n",
    "phasespace_cuts = (events.Jet.pt > 30) & (abs(events.Jet.eta) < 2.5)\n",
    "jets = ak.flatten(events.Jet[phasespace_cuts])\n",
    "\n",
    "bins = [40,60,80,100,120,140,160,180,200,220,240,260,280,300,1000]\n",
    "\n",
    "\n",
    "#for tag in [\"deepJet\", \"deepCSV\"]:\n",
    "for tag in [\"deepJet\"]:\n",
    "    #for wp in [\"L\", \"M\", \"T\"]:\n",
    "    for wp in [\"M\"]:\n",
    "        efficiencyinfo = (\n",
    "            hist.Hist.new.Variable(bins, name=\"pt\")\n",
    "            .Reg(4, 0, 2.5, name=\"abseta\")\n",
    "            .IntCat([0, 4, 5], name=\"flavor\")\n",
    "            .Bool(name=\"passWP\")\n",
    "            .Double()\n",
    "            .fill(\n",
    "                pt=jets.pt,\n",
    "                abseta=abs(jets.eta),\n",
    "                flavor=jets.hadronFlavour,\n",
    "                passWP=jets[taggerBranch[tag]] > btagWPs[tag][year][wp],\n",
    "            )\n",
    "        )\n",
    "        eff = efficiencyinfo[{\"passWP\": True}] / efficiencyinfo[{\"passWP\": sum}]\n",
    "        efflookup = dense_lookup(eff.values(), [ax.edges for ax in eff.axes])\n",
    "        #print(tag, wp, efflookup(np.array([42, 60]), 0.2, 2))\n",
    "\n",
    "    #    cutil.save(efflookup, f\"btageff_{tag}_{wp}_{year}.coffea\")"
   ]
  },
  {
   "cell_type": "code",
   "execution_count": 2,
   "id": "e6ecfd36-59d2-405f-b866-26f669b51edb",
   "metadata": {},
   "outputs": [
    {
     "name": "stdout",
     "output_type": "stream",
     "text": [
      "Hist(\n",
      "  Variable([40, 60, 80, 100, 120, 140, 160, 180, 200, 220, 240, 260, 280, 300, 1000], name='pt'),\n",
      "  Regular(4, 0, 2.5, name='abseta'),\n",
      "  IntCategory([0, 4, 5], name='flavor'),\n",
      "  storage=Double()) # Sum: 55.46420591799028 (nan with flow)\n"
     ]
    }
   ],
   "source": [
    "print(eff)"
   ]
  },
  {
   "cell_type": "code",
   "execution_count": 3,
   "id": "018cc120-18de-4d47-9c38-0fc93648e51f",
   "metadata": {},
   "outputs": [],
   "source": [
    "#s_2d = eff.project(\"pt\",\"abseta\")\n",
    "#s_2d[{\"flavor\": 4j}]"
   ]
  },
  {
   "cell_type": "code",
   "execution_count": 4,
   "id": "be5e31c2-4d55-413a-9c16-c76f4ccee3df",
   "metadata": {},
   "outputs": [],
   "source": [
    "eff_4=eff[{\"flavor\": 4j}]"
   ]
  },
  {
   "cell_type": "code",
   "execution_count": 5,
   "id": "91647efd-b9a0-4b5e-a0ad-532dd63a59f8",
   "metadata": {
    "scrolled": true
   },
   "outputs": [
    {
     "data": {
      "text/plain": [
       "array([[0.15542522, 0.16011561, 0.16324921, 0.16778976],\n",
       "       [0.12838307, 0.14355828, 0.14209275, 0.13510747],\n",
       "       [0.14369345, 0.12891114, 0.14005602, 0.12678571],\n",
       "       [0.12991453, 0.13702624, 0.16455696, 0.10909091],\n",
       "       [0.13517241, 0.15614035, 0.15549598, 0.13089005],\n",
       "       [0.1292517 , 0.11728395, 0.12068966, 0.16393443],\n",
       "       [0.16491228, 0.10096154, 0.10596026, 0.08      ],\n",
       "       [0.15555556, 0.15625   , 0.13684211, 0.18367347],\n",
       "       [0.144     , 0.14678899, 0.16666667, 0.15789474],\n",
       "       [0.13      , 0.1641791 , 0.06060606, 0.33333333],\n",
       "       [0.1875    , 0.225     , 0.11538462, 0.13333333],\n",
       "       [0.19444444, 0.03846154, 0.23529412, 0.2       ],\n",
       "       [0.25      , 0.10714286, 0.41666667, 0.        ],\n",
       "       [0.21538462, 0.18811881, 0.21276596, 0.25      ]])"
      ]
     },
     "execution_count": 5,
     "metadata": {},
     "output_type": "execute_result"
    }
   ],
   "source": [
    "eff_4.values()"
   ]
  },
  {
   "cell_type": "code",
   "execution_count": 6,
   "id": "06c8eeb7-8589-4418-a749-7aea4d085d62",
   "metadata": {},
   "outputs": [],
   "source": [
    "eff_5=eff[{\"flavor\": 5j}]"
   ]
  },
  {
   "cell_type": "code",
   "execution_count": 7,
   "id": "3b9465f6-f6e8-40bd-ab24-5b1f4b20fafe",
   "metadata": {},
   "outputs": [
    {
     "data": {
      "text/plain": [
       "array([[0.83050353, 0.81207942, 0.77918053, 0.7590561 ],\n",
       "       [0.85246882, 0.83492289, 0.80030143, 0.76858345],\n",
       "       [0.8616207 , 0.83908379, 0.80067265, 0.76224662],\n",
       "       [0.84657483, 0.84868421, 0.8094195 , 0.77671334],\n",
       "       [0.86314152, 0.84647147, 0.82132222, 0.78803641],\n",
       "       [0.85327992, 0.85796178, 0.81313131, 0.79107981],\n",
       "       [0.87177419, 0.86258776, 0.80895009, 0.81069959],\n",
       "       [0.87231353, 0.8573913 , 0.80886427, 0.79699248],\n",
       "       [0.84989858, 0.82471264, 0.82513661, 0.72619048],\n",
       "       [0.87579618, 0.87878788, 0.76612903, 0.85185185],\n",
       "       [0.9       , 0.8452381 , 0.81372549, 0.76190476],\n",
       "       [0.83229814, 0.85714286, 0.84375   , 0.8       ],\n",
       "       [0.87826087, 0.85483871, 0.78787879, 0.75      ],\n",
       "       [0.82712766, 0.8057554 , 0.77310924, 0.72      ]])"
      ]
     },
     "execution_count": 7,
     "metadata": {},
     "output_type": "execute_result"
    }
   ],
   "source": [
    "eff_5.values()"
   ]
  },
  {
   "cell_type": "code",
   "execution_count": 8,
   "id": "99fdd0ae-7602-4270-8d9d-4d48813a1a52",
   "metadata": {},
   "outputs": [],
   "source": [
    "eff_0=eff[{\"flavor\": 0j}]"
   ]
  },
  {
   "cell_type": "code",
   "execution_count": 9,
   "id": "5677d304-9c60-42b5-83dc-691833aac35f",
   "metadata": {},
   "outputs": [
    {
     "data": {
      "text/plain": [
       "array([[0.01253946, 0.01483606, 0.01753349, 0.02411893],\n",
       "       [0.00888536, 0.00821205, 0.01207221, 0.01240741],\n",
       "       [0.00715878, 0.00920583, 0.0094038 , 0.01627604],\n",
       "       [0.00583544, 0.00922935, 0.01330377, 0.01469788],\n",
       "       [0.01077727, 0.00631501, 0.0133833 , 0.01061947],\n",
       "       [0.00862534, 0.00769686, 0.01481481, 0.01651652],\n",
       "       [0.00415628, 0.00756859, 0.01530612, 0.01882353],\n",
       "       [0.00617284, 0.01420455, 0.00769231, 0.01020408],\n",
       "       [0.0070922 , 0.01077586, 0.01634877, 0.02252252],\n",
       "       [0.01373626, 0.00636943, 0.01185771, 0.00680272],\n",
       "       [0.00343643, 0.01276596, 0.01829268, 0.03296703],\n",
       "       [0.01129944, 0.00657895, 0.        , 0.01639344],\n",
       "       [0.00606061, 0.00763359, 0.01      , 0.03448276],\n",
       "       [0.02291326, 0.02056075, 0.04347826, 0.05586592]])"
      ]
     },
     "execution_count": 9,
     "metadata": {},
     "output_type": "execute_result"
    }
   ],
   "source": [
    "eff_0.values()"
   ]
  },
  {
   "cell_type": "code",
   "execution_count": null,
   "id": "32e0b707-272c-4bc8-b6cc-394c6a3d2d8f",
   "metadata": {},
   "outputs": [],
   "source": []
  }
 ],
 "metadata": {
  "kernelspec": {
   "display_name": "Python 3 (ipykernel)",
   "language": "python",
   "name": "python3"
  },
  "language_info": {
   "codemirror_mode": {
    "name": "ipython",
    "version": 3
   },
   "file_extension": ".py",
   "mimetype": "text/x-python",
   "name": "python",
   "nbconvert_exporter": "python",
   "pygments_lexer": "ipython3",
   "version": "3.10.15"
  }
 },
 "nbformat": 4,
 "nbformat_minor": 5
}
